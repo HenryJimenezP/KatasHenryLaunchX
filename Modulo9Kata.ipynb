{
 "cells": [
  {
   "cell_type": "markdown",
   "metadata": {},
   "source": [
    "## Ejercicio: Uso de funciones en Python\n",
    "\n",
    "Trabajar con argumentos en funciones"
   ]
  },
  {
   "cell_type": "code",
   "execution_count": 1,
   "metadata": {},
   "outputs": [],
   "source": [
    "def informe(main_tank, external_tank, hydrogen_tank):\n",
    "    promedio_total = (main_tank + external_tank + hydrogen_tank) / 3\n",
    "    return f\"\"\"Informe de combustible:\n",
    "    Promedio total: {promedio_total}%\n",
    "    Tanque principal: {main_tank}%\n",
    "    Tanque externo: {external_tank}%\n",
    "    Tanque de Hidrógeno: {hydrogen_tank}% \n",
    "    \"\"\""
   ]
  },
  {
   "cell_type": "code",
   "execution_count": 2,
   "metadata": {},
   "outputs": [
    {
     "name": "stdout",
     "output_type": "stream",
     "text": [
      "Informe de combustible:\n",
      "    Promedio total: 88.33333333333333%\n",
      "    Tanque principal: 90%\n",
      "    Tanque externo: 80%\n",
      "    Tanque de Hidrógeno: 95% \n",
      "    \n"
     ]
    }
   ],
   "source": [
    "print(informe(90, 80, 95))"
   ]
  },
  {
   "cell_type": "markdown",
   "metadata": {},
   "source": [
    "## Ejercicio : Trabajar con argumentos de palabras clave en funciones"
   ]
  },
  {
   "cell_type": "code",
   "execution_count": 3,
   "metadata": {},
   "outputs": [
    {
     "name": "stdout",
     "output_type": "stream",
     "text": [
      "\n",
      "    Misión a: Luna\n",
      "    Tiempo total de vuelo: 65 minutos\n",
      "    Combistible total restante: 500000 galones\n",
      "    \n"
     ]
    }
   ],
   "source": [
    "def informe_mision(prelanzamineto, tiempo_vuelo, destino, tanque_externo, tanque_principal):\n",
    "    return f\"\"\"\n",
    "    Misión a: {destino}\n",
    "    Tiempo total de vuelo: {prelanzamineto + tiempo_vuelo} minutos\n",
    "    Combistible total restante: {tanque_externo + tanque_principal} galones\n",
    "    \"\"\"\n",
    "\n",
    "print(informe_mision(14, 51, \"Luna\", 200000, 300000))"
   ]
  },
  {
   "cell_type": "code",
   "execution_count": 4,
   "metadata": {},
   "outputs": [
    {
     "name": "stdout",
     "output_type": "stream",
     "text": [
      "\n",
      "    Misión a: Luna\n",
      "    Tiempo total de vuelo: 76 minutos\n",
      "    Combistible total restante: 500000\n",
      "    \n"
     ]
    }
   ],
   "source": [
    "def mission_report(destino, *minutos, **fuel_reservoirs):\n",
    "    return f\"\"\"\n",
    "    Misión a: {destino}\n",
    "    Tiempo total de vuelo: {sum(minutos)} minutos\n",
    "    Combistible total restante: {sum(fuel_reservoirs.values())}\n",
    "    \"\"\"\n",
    "\n",
    "print(mission_report(\"Luna\", 10, 15, 51, principal=300000, externo=200000))"
   ]
  },
  {
   "cell_type": "code",
   "execution_count": 5,
   "metadata": {},
   "outputs": [
    {
     "name": "stdout",
     "output_type": "stream",
     "text": [
      "\n",
      "    Mision a: luna\n",
      "    Tiempo total de vuelo: 74 minutos\n",
      "    Combustible total restante: 500000\n",
      "    principal tanque --> 300000 galones restantes\n",
      "externo tanque --> 200000 galones restantes\n",
      "\n"
     ]
    }
   ],
   "source": [
    "def informe(destino, *minutos, **fuel_reservoirs):\n",
    "    main_report = f\"\"\"\n",
    "    Mision a: {destino}\n",
    "    Tiempo total de vuelo: {sum(minutos)} minutos\n",
    "    Combustible total restante: {sum(fuel_reservoirs.values())}\n",
    "    \"\"\"\n",
    "    for tank_name, gallons in fuel_reservoirs.items():\n",
    "        main_report += f\"{tank_name} tanque --> {gallons} galones restantes\\n\"\n",
    "    return main_report\n",
    "\n",
    "print(informe(\"luna\", 8, 11, 55, principal=300000, externo=200000))"
   ]
  }
 ],
 "metadata": {
  "interpreter": {
   "hash": "61c829ef39b7444a47a493e00364d747bd7fcceb00c4ddb97081fa89739b7ba8"
  },
  "kernelspec": {
   "display_name": "Python 3.10.2 64-bit",
   "language": "python",
   "name": "python3"
  },
  "language_info": {
   "codemirror_mode": {
    "name": "ipython",
    "version": 3
   },
   "file_extension": ".py",
   "mimetype": "text/x-python",
   "name": "python",
   "nbconvert_exporter": "python",
   "pygments_lexer": "ipython3",
   "version": "3.10.2"
  },
  "orig_nbformat": 4
 },
 "nbformat": 4,
 "nbformat_minor": 2
}
